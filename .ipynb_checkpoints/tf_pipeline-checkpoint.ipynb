{
 "cells": [
  {
   "cell_type": "code",
   "execution_count": 130,
   "id": "67147823",
   "metadata": {},
   "outputs": [],
   "source": [
    "import tensorflow as tf\n",
    "from tensorflow import keras\n",
    "import matplotlib.pyplot as plt\n",
    "import numpy as np\n",
    "import os\n",
    "\n",
    "%matplotlib inline"
   ]
  },
  {
   "cell_type": "code",
   "execution_count": 131,
   "id": "ce860b06",
   "metadata": {},
   "outputs": [],
   "source": [
    "review_path = tf.data.Dataset.list_files('reviews/*/*',shuffle=False)"
   ]
  },
  {
   "cell_type": "code",
   "execution_count": 132,
   "id": "a4a9dc21",
   "metadata": {},
   "outputs": [
    {
     "name": "stdout",
     "output_type": "stream",
     "text": [
      "b'reviews\\\\negative\\\\neg_1.txt'\n",
      "b'reviews\\\\negative\\\\neg_2.txt'\n",
      "b'reviews\\\\negative\\\\neg_3.txt'\n",
      "b'reviews\\\\positive\\\\pos_1.txt'\n",
      "b'reviews\\\\positive\\\\pos_2.txt'\n",
      "b'reviews\\\\positive\\\\pos_3.txt'\n"
     ]
    }
   ],
   "source": [
    "for path in review_path:\n",
    "    print(path.numpy())"
   ]
  },
  {
   "cell_type": "code",
   "execution_count": 133,
   "id": "73b686dc",
   "metadata": {},
   "outputs": [],
   "source": [
    "def test(t):\n",
    "    for d in t:\n",
    "        print(f'review:{d[0].numpy()[:50]}')\n",
    "        print(f'~~~~~~~~~~~~~~~~~~~label:{d[1].numpy()}')"
   ]
  },
  {
   "cell_type": "code",
   "execution_count": 134,
   "id": "ad213bb8",
   "metadata": {},
   "outputs": [],
   "source": [
    "def get_label(path):\n",
    "    return tf.strings.split(path, os.path.sep)[-2]\n",
    "    "
   ]
  },
  {
   "cell_type": "code",
   "execution_count": 135,
   "id": "a70bf13b",
   "metadata": {},
   "outputs": [],
   "source": [
    "def process_text(path):\n",
    "    return tf.io.read_file(path),get_label(path)"
   ]
  },
  {
   "cell_type": "code",
   "execution_count": 136,
   "id": "f910af6e",
   "metadata": {},
   "outputs": [
    {
     "name": "stdout",
     "output_type": "stream",
     "text": [
      "review:b\"Basically there's a family where a little boy (Jak\"\n",
      "~~~~~~~~~~~~~~~~~~~label:b'negative'\n",
      "review:b'This show was an amazing, fresh & innovative idea '\n",
      "~~~~~~~~~~~~~~~~~~~label:b'negative'\n",
      "review:b''\n",
      "~~~~~~~~~~~~~~~~~~~label:b'negative'\n",
      "review:b'One of the other reviewers has mentioned that afte'\n",
      "~~~~~~~~~~~~~~~~~~~label:b'positive'\n",
      "review:b'A wonderful little production. <br /><br />The fil'\n",
      "~~~~~~~~~~~~~~~~~~~label:b'positive'\n",
      "review:b''\n",
      "~~~~~~~~~~~~~~~~~~~label:b'positive'\n"
     ]
    }
   ],
   "source": [
    "tf_data1 = review_path.map(process_text)\n",
    "test(tf_data1)"
   ]
  },
  {
   "cell_type": "code",
   "execution_count": 137,
   "id": "c1c5562d",
   "metadata": {},
   "outputs": [
    {
     "name": "stdout",
     "output_type": "stream",
     "text": [
      "review:b\"Basically there's a family where a little boy (Jak\"\n",
      "~~~~~~~~~~~~~~~~~~~label:b'negative'\n",
      "review:b'This show was an amazing, fresh & innovative idea '\n",
      "~~~~~~~~~~~~~~~~~~~label:b'negative'\n",
      "review:b'One of the other reviewers has mentioned that afte'\n",
      "~~~~~~~~~~~~~~~~~~~label:b'positive'\n",
      "review:b'A wonderful little production. <br /><br />The fil'\n",
      "~~~~~~~~~~~~~~~~~~~label:b'positive'\n"
     ]
    }
   ],
   "source": [
    "tf_data2 = tf_data1.filter(lambda txt,label : txt!=\"\")\n",
    "test(tf_data2)\n",
    "    "
   ]
  },
  {
   "cell_type": "code",
   "execution_count": 138,
   "id": "2a114275",
   "metadata": {},
   "outputs": [
    {
     "name": "stdout",
     "output_type": "stream",
     "text": [
      "review:b\"Basically there's a family where a little boy (Jak\"\n",
      "~~~~~~~~~~~~~~~~~~~label:b'negative'\n",
      "review:b'One of the other reviewers has mentioned that afte'\n",
      "~~~~~~~~~~~~~~~~~~~label:b'positive'\n",
      "review:b'This show was an amazing, fresh & innovative idea '\n",
      "~~~~~~~~~~~~~~~~~~~label:b'negative'\n",
      "review:b'A wonderful little production. <br /><br />The fil'\n",
      "~~~~~~~~~~~~~~~~~~~label:b'positive'\n"
     ]
    }
   ],
   "source": [
    "tf_data = review_path.map(process_text).filter(lambda txt,label : txt!=\"\").shuffle(buffer_size=2)\n",
    "\n",
    "test(tf_data)"
   ]
  },
  {
   "cell_type": "code",
   "execution_count": null,
   "id": "6992f9d8",
   "metadata": {},
   "outputs": [],
   "source": []
  }
 ],
 "metadata": {
  "kernelspec": {
   "display_name": "Python 3 (ipykernel)",
   "language": "python",
   "name": "python3"
  },
  "language_info": {
   "codemirror_mode": {
    "name": "ipython",
    "version": 3
   },
   "file_extension": ".py",
   "mimetype": "text/x-python",
   "name": "python",
   "nbconvert_exporter": "python",
   "pygments_lexer": "ipython3",
   "version": "3.9.7"
  }
 },
 "nbformat": 4,
 "nbformat_minor": 5
}
