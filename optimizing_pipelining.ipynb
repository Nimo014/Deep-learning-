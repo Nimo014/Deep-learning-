{
 "cells": [
  {
   "cell_type": "code",
   "execution_count": 113,
   "id": "148da5de",
   "metadata": {},
   "outputs": [
    {
     "data": {
      "text/plain": [
       "'2.5.0'"
      ]
     },
     "execution_count": 113,
     "metadata": {},
     "output_type": "execute_result"
    }
   ],
   "source": [
    "import tensorflow as tf\n",
    "import time\n",
    "tf.__version__"
   ]
  },
  {
   "cell_type": "code",
   "execution_count": 114,
   "id": "e12c3edc",
   "metadata": {},
   "outputs": [],
   "source": [
    "class FileDataset(tf.data.Dataset):\n",
    "    \n",
    "    def read_file(batch_size):\n",
    "        time.sleep(0.1)\n",
    "        for i in range(batch_size):\n",
    "            time.sleep(0.2)\n",
    "            yield(i,)\n",
    "    \n",
    "    def __new__(cls,batch_size=3):\n",
    "        return tf.data.Dataset.from_generator(cls.read_file, \n",
    "                                              output_signature=tf.TensorSpec(shape=(1,), dtype=tf.int64),\n",
    "                                              args=(batch_size,),\n",
    "                                             )\n",
    "                                              \n",
    "    "
   ]
  },
  {
   "cell_type": "code",
   "execution_count": 115,
   "id": "a50ed8e5",
   "metadata": {},
   "outputs": [],
   "source": [
    "def benchmark(dataset, epoch=2):\n",
    "    \n",
    "    start_time = time.perf_counter()\n",
    "    for i in range(epoch):\n",
    "        time.sleep(0.01)\n",
    "    end_time = time.perf_counter()\n",
    "    return end_time - start_time"
   ]
  },
  {
   "cell_type": "code",
   "execution_count": 116,
   "id": "0b50f469",
   "metadata": {},
   "outputs": [
    {
     "data": {
      "text/plain": [
       "0.033803899999838904"
      ]
     },
     "execution_count": 116,
     "metadata": {},
     "output_type": "execute_result"
    }
   ],
   "source": [
    "#without prefetch batch are read and then train\n",
    "benchmark(FileDataset(),2)"
   ]
  },
  {
   "cell_type": "code",
   "execution_count": 117,
   "id": "49ddfb89",
   "metadata": {},
   "outputs": [
    {
     "data": {
      "text/plain": [
       "0.033250800000132585"
      ]
     },
     "execution_count": 117,
     "metadata": {},
     "output_type": "execute_result"
    }
   ],
   "source": [
    "#with prefetch.. reading and training done together\n",
    "benchmark(FileDataset().prefetch(tf.data.AUTOTUNE),2)"
   ]
  },
  {
   "cell_type": "code",
   "execution_count": 118,
   "id": "d33ad8b9",
   "metadata": {},
   "outputs": [],
   "source": [
    "def map_func(s):\n",
    "    tf.py_function(lambda :time.sleep(0.1),[],())\n",
    "    return s"
   ]
  },
  {
   "cell_type": "code",
   "execution_count": 119,
   "id": "326de7c7",
   "metadata": {},
   "outputs": [
    {
     "data": {
      "text/plain": [
       "0.02698179999970307"
      ]
     },
     "execution_count": 119,
     "metadata": {},
     "output_type": "execute_result"
    }
   ],
   "source": [
    "benchmark(FileDataset().prefetch(tf.data.AUTOTUNE).map(map_func).cache())"
   ]
  },
  {
   "cell_type": "code",
   "execution_count": null,
   "id": "019654a8",
   "metadata": {},
   "outputs": [],
   "source": []
  }
 ],
 "metadata": {
  "kernelspec": {
   "display_name": "Python 3 (ipykernel)",
   "language": "python",
   "name": "python3"
  },
  "language_info": {
   "codemirror_mode": {
    "name": "ipython",
    "version": 3
   },
   "file_extension": ".py",
   "mimetype": "text/x-python",
   "name": "python",
   "nbconvert_exporter": "python",
   "pygments_lexer": "ipython3",
   "version": "3.9.7"
  }
 },
 "nbformat": 4,
 "nbformat_minor": 5
}
