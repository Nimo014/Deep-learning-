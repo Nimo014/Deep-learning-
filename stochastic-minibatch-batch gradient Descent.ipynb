{
 "cells": [
  {
   "cell_type": "code",
   "execution_count": 110,
   "id": "64015f1e",
   "metadata": {},
   "outputs": [],
   "source": [
    "import pandas as pd\n",
    "import numpy as np\n",
    "from sklearn import preprocessing\n",
    "import matplotlib.pyplot as plt\n",
    "%matplotlib inline"
   ]
  },
  {
   "cell_type": "code",
   "execution_count": 111,
   "id": "b10d41ab",
   "metadata": {},
   "outputs": [],
   "source": [
    "df = pd.read_csv('homeprices.csv')"
   ]
  },
  {
   "cell_type": "code",
   "execution_count": 112,
   "id": "7a0db2ab",
   "metadata": {},
   "outputs": [
    {
     "name": "stdout",
     "output_type": "stream",
     "text": [
      "<class 'pandas.core.frame.DataFrame'>\n",
      "RangeIndex: 20 entries, 0 to 19\n",
      "Data columns (total 3 columns):\n",
      " #   Column    Non-Null Count  Dtype  \n",
      "---  ------    --------------  -----  \n",
      " 0   area      20 non-null     int64  \n",
      " 1   bedrooms  20 non-null     int64  \n",
      " 2   price     20 non-null     float64\n",
      "dtypes: float64(1), int64(2)\n",
      "memory usage: 608.0 bytes\n"
     ]
    }
   ],
   "source": [
    "df.info()"
   ]
  },
  {
   "cell_type": "code",
   "execution_count": 113,
   "id": "39dd2c02",
   "metadata": {},
   "outputs": [
    {
     "data": {
      "text/plain": [
       "array([ 39.07, 120.  ,  62.  ,  75.  ,  51.  ,  38.  , 135.  , 155.  ,\n",
       "        50.  , 167.  ,  82.  , 140.  ,  38.  ,  40.  , 101.  ,  42.  ,\n",
       "        48.  ,  60.  , 102.  ,  32.  ])"
      ]
     },
     "execution_count": 113,
     "metadata": {},
     "output_type": "execute_result"
    }
   ],
   "source": [
    "x = df.drop(\"price\",axis=1)\n",
    "y = df['price']\n",
    "y.values"
   ]
  },
  {
   "cell_type": "code",
   "execution_count": 114,
   "id": "015371de",
   "metadata": {},
   "outputs": [
    {
     "data": {
      "text/plain": [
       "array([[0.08827586, 0.62068966, 0.22068966, 0.24862069, 0.13793103,\n",
       "        0.12758621, 0.6662069 , 0.86206897, 0.17586207, 1.        ,\n",
       "        0.34482759, 0.68448276, 0.06896552, 0.10344828, 0.5       ,\n",
       "        0.12931034, 0.13103448, 0.25517241, 0.67931034, 0.        ],\n",
       "       [0.25      , 0.75      , 0.5       , 0.5       , 0.25      ,\n",
       "        0.25      , 0.75      , 0.75      , 0.5       , 1.        ,\n",
       "        0.5       , 0.75      , 0.25      , 0.25      , 0.5       ,\n",
       "        0.25      , 0.5       , 0.5       , 0.5       , 0.        ]])"
      ]
     },
     "execution_count": 114,
     "metadata": {},
     "output_type": "execute_result"
    }
   ],
   "source": [
    "Scaler = preprocessing.MinMaxScaler()\n",
    "X_scaled = Scaler.fit_transform(x)\n",
    "Y_scaled = Scaler.fit_transform(y.values.reshape(y.shape[0],1))\n",
    "\n",
    "np.transpose(X_scaled)"
   ]
  },
  {
   "cell_type": "markdown",
   "id": "06a8a8b4",
   "metadata": {},
   "source": [
    "# BATCH GRADIENT DESCENT"
   ]
  },
  {
   "cell_type": "code",
   "execution_count": 115,
   "id": "6101d471",
   "metadata": {},
   "outputs": [],
   "source": [
    "def batch_gradient_descent(x,y,epochs):\n",
    "    w = np.ones(x.shape[1])\n",
    "    b = 0\n",
    "    n = x.shape[0]\n",
    "    rate = 0.01\n",
    "    cost_list = []\n",
    "    epoch_list = []\n",
    "    \n",
    "    for i in range(epochs):\n",
    "        \n",
    "        y_pred = np.dot(w,np.transpose(x)) + b\n",
    "    \n",
    "        w_grad = -(2/n)*np.dot(np.transpose(x),y-y_pred)\n",
    "        b_grad = -(2/n)*np.sum(y-y_pred)\n",
    "        \n",
    "        w = w - rate*w_grad\n",
    "        b = b - rate*b_grad\n",
    "        \n",
    "        loss = np.mean(np.square(y-y_pred))\n",
    "        \n",
    "        if i%10==0:\n",
    "            cost_list.append(loss)\n",
    "            epoch_list.append(i)\n",
    "            \n",
    "        \n",
    "    return w,b,cost_list,epoch_list\n",
    "            \n"
   ]
  },
  {
   "cell_type": "code",
   "execution_count": 116,
   "id": "b832ab92",
   "metadata": {},
   "outputs": [
    {
     "data": {
      "text/plain": [
       "(array([0.82015506, 0.78816915]),\n",
       " -0.3027445983749067,\n",
       " [0.2768777174681,\n",
       "  0.16573507027671064,\n",
       "  0.10212908135956808,\n",
       "  0.06564235879682481,\n",
       "  0.04463022365578522,\n",
       "  0.03245122421764872,\n",
       "  0.025317339083010492,\n",
       "  0.021067914076635823,\n",
       "  0.01847041893523527,\n",
       "  0.016821657535428185],\n",
       " [0, 10, 20, 30, 40, 50, 60, 70, 80, 90])"
      ]
     },
     "execution_count": 116,
     "metadata": {},
     "output_type": "execute_result"
    }
   ],
   "source": [
    "w,b,cost_list,epoch_list = batch_gradient_descent(X_scaled,Y_scaled.reshape(Y_scaled.shape[0],),100)\n",
    "w,b,cost_list,epoch_list"
   ]
  },
  {
   "cell_type": "code",
   "execution_count": 117,
   "id": "2f70c759",
   "metadata": {},
   "outputs": [
    {
     "data": {
      "text/plain": [
       "[<matplotlib.lines.Line2D at 0x29089a84c40>]"
      ]
     },
     "execution_count": 117,
     "metadata": {},
     "output_type": "execute_result"
    },
    {
     "data": {
      "image/png": "[encoded data removed]",
      "text/plain": [
       "<Figure size 432x288 with 1 Axes>"
      ]
     },
     "metadata": {
      "needs_background": "light"
     },
     "output_type": "display_data"
    }
   ],
   "source": [
    "plt.xlabel('epoch')\n",
    "plt.ylabel('loss')\n",
    "plt.plot(epoch_list,cost_list)"
   ]
  },
  {
   "cell_type": "markdown",
   "id": "00f8288f",
   "metadata": {},
   "source": [
    "# STOCHASTIC GRADIENT DESCENT"
   ]
  },
  {
   "cell_type": "code",
   "execution_count": 118,
   "id": "56d817e1",
   "metadata": {},
   "outputs": [],
   "source": [
    "def stochastic_gradient_descent(x,y,epoch):\n",
    "    \n",
    "    w = np.ones(x.shape[1])\n",
    "    b = 0\n",
    "    n = x.shape[0]\n",
    "    rate = 0.01\n",
    "    cost_list=[]\n",
    "    epoch_list=[]\n",
    "    for i in  range(epoch):\n",
    "        random_idx = np.random.randint(x.shape[0])\n",
    "        y_pred = w*x[random_idx] + b\n",
    "        \n",
    "        w_grad = -(2/n)*(np.dot(x[random_idx],y[random_idx]-y_pred ))\n",
    "        b_grad = -(2/n)*np.sum(y[random_idx]-y_pred)\n",
    "        \n",
    "        w = w - rate*w_grad\n",
    "        b = b - rate*b_grad\n",
    "        \n",
    "        loss = np.mean(np.square(y[random_idx]-y_pred))\n",
    "        \n",
    "        if i%100==0:\n",
    "            cost_list.append(loss)\n",
    "            epoch_list.append(i)\n",
    "            \n",
    "    return w,b,cost_list,epoch_list"
   ]
  },
  {
   "cell_type": "code",
   "execution_count": 119,
   "id": "8ac3503e",
   "metadata": {},
   "outputs": [],
   "source": [
    "w_sgd,b_sgd,cost_list_sgd,epoch_list_sgd = stochastic_gradient_descent(X_scaled,Y_scaled.reshape(Y_scaled.shape[0],),10000)\n"
   ]
  },
  {
   "cell_type": "code",
   "execution_count": 120,
   "id": "74cf9cff",
   "metadata": {},
   "outputs": [
    {
     "data": {
      "text/plain": [
       "[<matplotlib.lines.Line2D at 0x29088e53070>]"
      ]
     },
     "execution_count": 120,
     "metadata": {},
     "output_type": "execute_result"
    },
    {
     "data": {
      "image/png": "[encoded data removed]",
      "text/plain": [
       "<Figure size 432x288 with 1 Axes>"
      ]
     },
     "metadata": {
      "needs_background": "light"
     },
     "output_type": "display_data"
    }
   ],
   "source": [
    "plt.xlabel('epoch')\n",
    "plt.ylabel('loss')\n",
    "plt.plot(epoch_list_sgd,cost_list_sgd)"
   ]
  },
  {
   "cell_type": "markdown",
   "id": "461fe835",
   "metadata": {},
   "source": [
    "# MINI BATCH GRADIENT DESCENT"
   ]
  },
  {
   "cell_type": "code",
   "execution_count": 128,
   "id": "fd64af2c",
   "metadata": {},
   "outputs": [],
   "source": [
    "def mini_batch_gradient(x,y,epoch,batch_size=10):\n",
    "    \n",
    "    w = np.ones(x.shape[1])\n",
    "    b = 0\n",
    "    n = x.shape[0]\n",
    "    rate = 0.01\n",
    "    cost_list=[]\n",
    "    epoch_list=[]\n",
    "    \n",
    "    random_seq = np.random.permutation(n)\n",
    "    \n",
    "    for j in  range(epoch):\n",
    "        \n",
    "        random_seq = np.random.permutation(n)\n",
    "        x_tmp = x[random_seq]\n",
    "        y_tmp = y[random_seq]\n",
    "        \n",
    "        for i in range(0,n,batch_size):\n",
    "            \n",
    "            x_sample = x_tmp[i:i+batch_size]\n",
    "            y_sample = y_tmp[i:i+batch_size]\n",
    "            \n",
    "            y_pred = np.dot(w,np.transpose(x_sample)) + b\n",
    "\n",
    "            w_grad = -(2/len(x_sample))*(np.dot(np.transpose(x_sample),y_sample-y_pred ))\n",
    "            b_grad = -(2/len(x_sample))*np.sum(y_sample-y_pred)\n",
    "\n",
    "            w = w - rate*w_grad\n",
    "            b = b - rate*b_grad\n",
    "\n",
    "            loss = np.mean(np.square(y_sample-y_pred))\n",
    "\n",
    "            if j%100==0:\n",
    "                cost_list.append(loss)\n",
    "                epoch_list.append(i)\n",
    "\n",
    "    return w,b,cost_list,epoch_list\n",
    "        "
   ]
  },
  {
   "cell_type": "code",
   "execution_count": 129,
   "id": "58e78798",
   "metadata": {},
   "outputs": [],
   "source": [
    "w_mbd,b_mbd,cost_list_mbd,epoch_list_mbd = mini_batch_gradient(X_scaled,Y_scaled.reshape(Y_scaled.shape[0],),100)\n"
   ]
  },
  {
   "cell_type": "code",
   "execution_count": 130,
   "id": "cc098880",
   "metadata": {},
   "outputs": [
    {
     "data": {
      "text/plain": [
       "[<matplotlib.lines.Line2D at 0x29088f49400>]"
      ]
     },
     "execution_count": 130,
     "metadata": {},
     "output_type": "execute_result"
    },
    {
     "data": {
      "image/png": "[encoded data removed]",
      "text/plain": [
       "<Figure size 432x288 with 1 Axes>"
      ]
     },
     "metadata": {
      "needs_background": "light"
     },
     "output_type": "display_data"
    }
   ],
   "source": [
    "plt.xlabel('epoch')\n",
    "plt.ylabel('loss')\n",
    "plt.plot(epoch_list_mbd,cost_list_mbd)"
   ]
  },
  {
   "cell_type": "code",
   "execution_count": null,
   "id": "51606759",
   "metadata": {},
   "outputs": [],
   "source": []
  }
 ],
 "metadata": {
  "kernelspec": {
   "display_name": "Python 3 (ipykernel)",
   "language": "python",
   "name": "python3"
  },
  "language_info": {
   "codemirror_mode": {
    "name": "ipython",
    "version": 3
   },
   "file_extension": ".py",
   "mimetype": "text/x-python",
   "name": "python",
   "nbconvert_exporter": "python",
   "pygments_lexer": "ipython3",
   "version": "3.9.7"
  }
 },
 "nbformat": 4,
 "nbformat_minor": 5
}
